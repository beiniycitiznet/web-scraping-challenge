{
 "cells": [
  {
   "cell_type": "code",
   "execution_count": 1,
   "metadata": {},
   "outputs": [],
   "source": [
    "# Dependencies\n",
    "import requests\n",
    "import pandas as pd\n",
    "from bs4 import BeautifulSoup as bs\n",
    "from splinter import Browser\n",
    "from splinter.exceptions import ElementDoesNotExist\n",
    "from pprint import pprint"
   ]
  },
  {
   "cell_type": "code",
   "execution_count": 2,
   "metadata": {},
   "outputs": [],
   "source": [
    "# NASA Mars News\n",
    "# URL of page to be scraped\n",
    "url_news = \"https://mars.nasa.gov/news\"\n",
    "\n",
    "# Retrieve page with the requests module\n",
    "response_news = requests.get(url_news)\n",
    "\n",
    "# Create BeautifulSoup object; parse with 'html5lib'\n",
    "soup_news = bs(response_news.text, \"html5lib\")\n"
   ]
  },
  {
   "cell_type": "code",
   "execution_count": 3,
   "metadata": {},
   "outputs": [
    {
     "data": {
      "text/plain": [
       "\"The Launch Is Approaching for NASA's Next Mars Rover, Perseverance\""
      ]
     },
     "execution_count": 3,
     "metadata": {},
     "output_type": "execute_result"
    }
   ],
   "source": [
    "# Scrape the NASA Mars News Site and collect the latest News Title\n",
    "news_title = soup_news.find(\"div\", class_=\"content_title\").text.strip()\n",
    "news_title"
   ]
  },
  {
   "cell_type": "code",
   "execution_count": 4,
   "metadata": {},
   "outputs": [
    {
     "data": {
      "text/plain": [
       "\"The Red Planet's surface has been visited by eight NASA spacecraft. The ninth will be the first that includes a roundtrip ticket in its flight plan.\""
      ]
     },
     "execution_count": 4,
     "metadata": {},
     "output_type": "execute_result"
    }
   ],
   "source": [
    "# Scrape the NASA Mars News Site and collect Paragraph Text\n",
    "news_p = soup_news.find(\"div\", class_=\"rollover_description_inner\").text.strip()\n",
    "news_p"
   ]
  },
  {
   "cell_type": "code",
   "execution_count": 5,
   "metadata": {},
   "outputs": [],
   "source": [
    "# JPL Mars Space Images\n",
    "# URL of page to be scraped\n",
    "url_img = \"https://www.jpl.nasa.gov/spaceimages/?search=&category=Mars\"\n",
    "\n",
    "# Visit the url for JPL Featured Space Image\n",
    "browser_img = Browser(\"firefox\", headless=False)\n",
    "browser_img.visit(url_img)"
   ]
  },
  {
   "cell_type": "code",
   "execution_count": 6,
   "metadata": {},
   "outputs": [],
   "source": [
    "# HTML object\n",
    "html_img = browser_img.html\n",
    "\n",
    "# Parse HTML with Beautiful Soup\n",
    "soup_image = bs(html_img, \"lxml\")"
   ]
  },
  {
   "cell_type": "code",
   "execution_count": 7,
   "metadata": {},
   "outputs": [
    {
     "data": {
      "text/plain": [
       "'https://www.jpl.nasa.gov//spaceimages/images/largesize/PIA23960_hires.jpg'"
      ]
     },
     "execution_count": 7,
     "metadata": {},
     "output_type": "execute_result"
    }
   ],
   "source": [
    "# Find the image url for the current Featured Mars Image\n",
    "image_url = soup_image.find(\"li\", class_=\"slide\").find('a', class_=\"fancybox\")['data-fancybox-href']\n",
    "\n",
    "# Assign the url string to a variable called featured_image_url\n",
    "featured_image_url = \"https://www.jpl.nasa.gov/\"+image_url\n",
    "featured_image_url"
   ]
  },
  {
   "cell_type": "code",
   "execution_count": 8,
   "metadata": {},
   "outputs": [],
   "source": [
    "# Mars Weather\n",
    "# URL of page to be scraped\n",
    "url_weather = \"https://www.twitter.com/marswxreport\"\n",
    "\n",
    "# Visit the Mars Weather twitter account\n",
    "browser_weather = Browser(\"firefox\", headless=False)\n",
    "browser_weather.visit(url_weather)"
   ]
  },
  {
   "cell_type": "code",
   "execution_count": 9,
   "metadata": {},
   "outputs": [],
   "source": [
    "# HTML object\n",
    "html_weather = browser_weather.html\n",
    "\n",
    "# Parse HTML with Beautiful Soup\n",
    "soup_weather = bs(html_weather, \"html5lib\")"
   ]
  },
  {
   "cell_type": "code",
   "execution_count": 10,
   "metadata": {},
   "outputs": [
    {
     "name": "stdout",
     "output_type": "stream",
     "text": [
      "InSight sol 566 (2020-06-29) low -88.4ºC (-127.1ºF) high -4.2ºC (24.4ºF)\n",
      "winds from the WNW at 5.1 m/s (11.5 mph) gusting to 16.8 m/s (37.6 mph)\n",
      "pressure at 7.70 hPa\n"
     ]
    }
   ],
   "source": [
    "# Scrape the latest Mars weather tweet from the page. Save the tweet text for the weather report as a variable called mars_weather\n",
    "article_weather = soup_weather.find_all(\"article\", role=\"article\")\n",
    "mars_weather = \"\"\n",
    "\n",
    "# Loop through all posts to find \"span\", then look through all \"span\" to find text that start with \"InSight\", since not all posts are related to the weather on Mars\n",
    "for article in article_weather:\n",
    "    text_weather = article.find_all(\"span\")\n",
    "    for wea in text_weather:\n",
    "        if wea.text.startswith(\"InSight\"):\n",
    "            mars_weather=wea.text\n",
    "            print(mars_weather)\n",
    "            break\n",
    "    if mars_weather:\n",
    "        break"
   ]
  },
  {
   "cell_type": "code",
   "execution_count": 32,
   "metadata": {},
   "outputs": [
    {
     "data": {
      "text/plain": [
       "'<table border=\"1\" class=\"dataframe mars_table\">  <thead>    <tr style=\"text-align: left;\">      <th></th>      <th>value</th>    </tr>    <tr>      <th></th>      <th></th>    </tr>  </thead>  <tbody>    <tr>      <th>Equatorial Diameter:</th>      <td>6,792 km</td>    </tr>    <tr>      <th>Polar Diameter:</th>      <td>6,752 km</td>    </tr>    <tr>      <th>Mass:</th>      <td>6.39 × 10^23 kg (0.11 Earths)</td>    </tr>    <tr>      <th>Moons:</th>      <td>2 (Phobos &amp; Deimos)</td>    </tr>    <tr>      <th>Orbit Distance:</th>      <td>227,943,824 km (1.38 AU)</td>    </tr>    <tr>      <th>Orbit Period:</th>      <td>687 days (1.9 years)</td>    </tr>    <tr>      <th>Surface Temperature:</th>      <td>-87 to -5 °C</td>    </tr>    <tr>      <th>First Record:</th>      <td>2nd millennium BC</td>    </tr>    <tr>      <th>Recorded By:</th>      <td>Egyptian astronomers</td>    </tr>  </tbody></table>'"
      ]
     },
     "execution_count": 32,
     "metadata": {},
     "output_type": "execute_result"
    }
   ],
   "source": [
    "# Mars Facts\n",
    "# URL of page to be scraped\n",
    "url_facts = \"https://space-facts.com/mars/\"\n",
    "\n",
    "# Use Pandas to scrape the table containing facts about the planet including Diameter, Mass, etc.\n",
    "tables = pd.read_html(url_facts)\n",
    "mars_table = tables[0]\n",
    "mars_table = mars_table.rename(columns={0:\"\", 1:\"value\"}).set_index(\"\")\n",
    "\n",
    "# Use Pandas to convert the data to a HTML table string\n",
    "html_mars_table = mars_table.to_html(classes=\"mars_table\").replace(\"\\n\", \"\").replace(\"text-align: right\", \"text-align: left\")\n",
    "html_mars_table"
   ]
  },
  {
   "cell_type": "code",
   "execution_count": 14,
   "metadata": {},
   "outputs": [
    {
     "data": {
      "text/plain": [
       "['https://astrogeology.usgs.gov//search/map/Mars/Viking/cerberus_enhanced',\n",
       " 'https://astrogeology.usgs.gov//search/map/Mars/Viking/schiaparelli_enhanced',\n",
       " 'https://astrogeology.usgs.gov//search/map/Mars/Viking/syrtis_major_enhanced',\n",
       " 'https://astrogeology.usgs.gov//search/map/Mars/Viking/valles_marineris_enhanced']"
      ]
     },
     "execution_count": 14,
     "metadata": {},
     "output_type": "execute_result"
    }
   ],
   "source": [
    "# Mars Hemispheres\n",
    "# Visit the USGS Astrogeology site \n",
    "url_main = \"https://astrogeology.usgs.gov/search/results?q=hemisphere+enhanced&k1=target&v1=Mars\"\n",
    "\n",
    "# Retrieve page with the requests module\n",
    "response_main = requests.get(url_main)\n",
    "\n",
    "# Parse HTML with Beautiful Soup\n",
    "soup_main = bs(response_main.text, \"html5lib\")\n",
    "\n",
    "# Find all products in results\n",
    "url_all = soup_main.find_all(\"div\", class_=\"item\")\n",
    "\n",
    "\n",
    "# Create an empty list\n",
    "url_list=[]\n",
    "\n",
    "# List all urls for each links to the hemispheres\n",
    "for sub_url in url_all:\n",
    "    new_url = sub_url.find(\"a\", class_=\"itemLink\")[\"href\"]\n",
    "    new_url = \"https://astrogeology.usgs.gov/\"+new_url\n",
    "    url_list.append(new_url)\n",
    "url_list"
   ]
  },
  {
   "cell_type": "code",
   "execution_count": 15,
   "metadata": {},
   "outputs": [
    {
     "data": {
      "text/plain": [
       "[{'title': 'Cerberus Hemisphere Enhanced',\n",
       "  'img_url': 'https://astrogeology.usgs.gov//cache/images/f5e372a36edfa389625da6d0cc25d905_cerberus_enhanced.tif_full.jpg'},\n",
       " {'title': 'Schiaparelli Hemisphere Enhanced',\n",
       "  'img_url': 'https://astrogeology.usgs.gov//cache/images/3778f7b43bbbc89d6e3cfabb3613ba93_schiaparelli_enhanced.tif_full.jpg'},\n",
       " {'title': 'Syrtis Major Hemisphere Enhanced',\n",
       "  'img_url': 'https://astrogeology.usgs.gov//cache/images/555e6403a6ddd7ba16ddb0e471cadcf7_syrtis_major_enhanced.tif_full.jpg'},\n",
       " {'title': 'Valles Marineris Hemisphere Enhanced',\n",
       "  'img_url': 'https://astrogeology.usgs.gov//cache/images/b3c7c6c9138f57b4756be9b9c43e3a48_valles_marineris_enhanced.tif_full.jpg'}]"
      ]
     },
     "execution_count": 15,
     "metadata": {},
     "output_type": "execute_result"
    }
   ],
   "source": [
    "# Create an empty list and dictionary\n",
    "hemisphere_image_urls = []\n",
    "hem_dict = {}\n",
    "\n",
    "# Loop through all urls to save both the image url string for the full resolution hemisphere image, and the Hemisphere title containing the hemisphere name\n",
    "for hem_url in url_list:\n",
    "    hem_response = requests.get(hem_url)\n",
    "    hem_soup = bs(hem_response.text, \"html5lib\")\n",
    "    hem_img = hem_soup.find(\"img\", class_=\"wide-image\")[\"src\"]\n",
    "    hem_img = \"https://astrogeology.usgs.gov/\"+hem_img\n",
    "    hem_title = hem_soup.find(\"h2\", class_=\"title\").text\n",
    "    hem_dict = {\"title\": hem_title, \"img_url\": hem_img}\n",
    "    hemisphere_image_urls.append(hem_dict)\n",
    "hemisphere_image_urls"
   ]
  },
  {
   "cell_type": "code",
   "execution_count": 33,
   "metadata": {},
   "outputs": [
    {
     "data": {
      "text/plain": [
       "{'news_title': \"The Launch Is Approaching for NASA's Next Mars Rover, Perseverance\",\n",
       " 'news_p': \"The Red Planet's surface has been visited by eight NASA spacecraft. The ninth will be the first that includes a roundtrip ticket in its flight plan.\",\n",
       " 'featured_image_url': 'https://www.jpl.nasa.gov//spaceimages/images/largesize/PIA23960_hires.jpg',\n",
       " 'mars_weather': 'InSight sol 566 (2020-06-29) low -88.4ºC (-127.1ºF) high -4.2ºC (24.4ºF)\\nwinds from the WNW at 5.1 m/s (11.5 mph) gusting to 16.8 m/s (37.6 mph)\\npressure at 7.70 hPa',\n",
       " 'html_mars_table': '<table border=\"1\" class=\"dataframe mars_table\">  <thead>    <tr style=\"text-align: left;\">      <th></th>      <th>value</th>    </tr>    <tr>      <th></th>      <th></th>    </tr>  </thead>  <tbody>    <tr>      <th>Equatorial Diameter:</th>      <td>6,792 km</td>    </tr>    <tr>      <th>Polar Diameter:</th>      <td>6,752 km</td>    </tr>    <tr>      <th>Mass:</th>      <td>6.39 × 10^23 kg (0.11 Earths)</td>    </tr>    <tr>      <th>Moons:</th>      <td>2 (Phobos &amp; Deimos)</td>    </tr>    <tr>      <th>Orbit Distance:</th>      <td>227,943,824 km (1.38 AU)</td>    </tr>    <tr>      <th>Orbit Period:</th>      <td>687 days (1.9 years)</td>    </tr>    <tr>      <th>Surface Temperature:</th>      <td>-87 to -5 °C</td>    </tr>    <tr>      <th>First Record:</th>      <td>2nd millennium BC</td>    </tr>    <tr>      <th>Recorded By:</th>      <td>Egyptian astronomers</td>    </tr>  </tbody></table>',\n",
       " 'hemisphere_image_urls': [{'title': 'Cerberus Hemisphere Enhanced',\n",
       "   'img_url': 'https://astrogeology.usgs.gov//cache/images/f5e372a36edfa389625da6d0cc25d905_cerberus_enhanced.tif_full.jpg'},\n",
       "  {'title': 'Schiaparelli Hemisphere Enhanced',\n",
       "   'img_url': 'https://astrogeology.usgs.gov//cache/images/3778f7b43bbbc89d6e3cfabb3613ba93_schiaparelli_enhanced.tif_full.jpg'},\n",
       "  {'title': 'Syrtis Major Hemisphere Enhanced',\n",
       "   'img_url': 'https://astrogeology.usgs.gov//cache/images/555e6403a6ddd7ba16ddb0e471cadcf7_syrtis_major_enhanced.tif_full.jpg'},\n",
       "  {'title': 'Valles Marineris Hemisphere Enhanced',\n",
       "   'img_url': 'https://astrogeology.usgs.gov//cache/images/b3c7c6c9138f57b4756be9b9c43e3a48_valles_marineris_enhanced.tif_full.jpg'}]}"
      ]
     },
     "execution_count": 33,
     "metadata": {},
     "output_type": "execute_result"
    }
   ],
   "source": [
    "# Create a dictionary that includes all the information we scraped\n",
    "mars_dic = {\n",
    "    \"news_title\": news_title,\n",
    "    \"news_p\": news_p,\n",
    "    \"featured_image_url\": featured_image_url,\n",
    "    \"mars_weather\": mars_weather,\n",
    "    \"html_mars_table\": html_mars_table,\n",
    "    \"hemisphere_image_urls\": hemisphere_image_urls\n",
    "}\n",
    "mars_dic"
   ]
  },
  {
   "cell_type": "code",
   "execution_count": null,
   "metadata": {},
   "outputs": [],
   "source": []
  }
 ],
 "metadata": {
  "kernelspec": {
   "display_name": "Python 3.7.7 64-bit ('dsfs': conda)",
   "language": "python",
   "name": "python37764bitdsfsconda1775957e7c934391a7cff3c9f4103f95"
  },
  "language_info": {
   "codemirror_mode": {
    "name": "ipython",
    "version": 3
   },
   "file_extension": ".py",
   "mimetype": "text/x-python",
   "name": "python",
   "nbconvert_exporter": "python",
   "pygments_lexer": "ipython3",
   "version": "3.7.7"
  }
 },
 "nbformat": 4,
 "nbformat_minor": 4
}
